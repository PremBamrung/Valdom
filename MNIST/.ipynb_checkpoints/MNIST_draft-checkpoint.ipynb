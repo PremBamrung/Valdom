{
 "cells": [
  {
   "cell_type": "markdown",
   "metadata": {
    "toc": true
   },
   "source": [
    "<h1>Table of Contents<span class=\"tocSkip\"></span></h1>\n",
    "<div class=\"toc\"><ul class=\"toc-item\"><li><span><a href=\"#Import-librairies\" data-toc-modified-id=\"Import-librairies-1\"><span class=\"toc-item-num\">1&nbsp;&nbsp;</span>Import librairies</a></span></li><li><span><a href=\"#Convert-ubyte-to-npy\" data-toc-modified-id=\"Convert-ubyte-to-npy-2\"><span class=\"toc-item-num\">2&nbsp;&nbsp;</span>Convert ubyte to npy</a></span></li><li><span><a href=\"#Load-Data\" data-toc-modified-id=\"Load-Data-3\"><span class=\"toc-item-num\">3&nbsp;&nbsp;</span>Load Data</a></span></li><li><span><a href=\"#Functions\" data-toc-modified-id=\"Functions-4\"><span class=\"toc-item-num\">4&nbsp;&nbsp;</span>Functions</a></span></li><li><span><a href=\"#Comparaison-grad\" data-toc-modified-id=\"Comparaison-grad-5\"><span class=\"toc-item-num\">5&nbsp;&nbsp;</span>Comparaison grad</a></span></li><li><span><a href=\"#Training-loop-1-layer-1-image\" data-toc-modified-id=\"Training-loop-1-layer-1-image-6\"><span class=\"toc-item-num\">6&nbsp;&nbsp;</span>Training loop 1 layer 1 image</a></span></li><li><span><a href=\"#Training-loop-1-layer-all-images\" data-toc-modified-id=\"Training-loop-1-layer-all-images-7\"><span class=\"toc-item-num\">7&nbsp;&nbsp;</span>Training loop 1 layer all images</a></span></li></ul></div>"
   ]
  },
  {
   "cell_type": "markdown",
   "metadata": {},
   "source": [
    "# Import librairies "
   ]
  },
  {
   "cell_type": "code",
   "execution_count": 2,
   "metadata": {
    "ExecuteTime": {
     "end_time": "2020-09-21T18:46:14.533651Z",
     "start_time": "2020-09-21T18:46:13.905842Z"
    }
   },
   "outputs": [
    {
     "data": {
      "text/plain": [
       "'\\nhttp://yann.lecun.com/exdb/mnist/\\n28*28 dimension \\ntraining 60 000 sample\\ntest 10 000 sample \\nvalues between 0 and 255\\n1 file for data 1 file or label\\n\\n'"
      ]
     },
     "execution_count": 2,
     "metadata": {},
     "output_type": "execute_result"
    }
   ],
   "source": [
    "import numpy as np\n",
    "import pandas as pd\n",
    "import matplotlib.pyplot as plt\n",
    "from glob import glob\n",
    "import idx2numpy\n",
    "from tqdm.notebook import tqdm\n",
    "plt.rcParams['figure.figsize'] = [17, 10]\n",
    "\n",
    "\"\"\"\n",
    "http://yann.lecun.com/exdb/mnist/\n",
    "28*28 dimension \n",
    "training 60 000 sample\n",
    "test 10 000 sample \n",
    "values between 0 and 255\n",
    "1 file for data 1 file or label\n",
    "\n",
    "\"\"\""
   ]
  },
  {
   "cell_type": "markdown",
   "metadata": {},
   "source": [
    "# Convert ubyte to npy"
   ]
  },
  {
   "cell_type": "code",
   "execution_count": 3,
   "metadata": {
    "ExecuteTime": {
     "end_time": "2020-09-21T18:46:24.596821Z",
     "start_time": "2020-09-21T18:46:16.275536Z"
    }
   },
   "outputs": [],
   "source": [
    "# convert idx to numpy and save to npy\n",
    "\n",
    "files = glob(\"*-ubyte\")\n",
    "for file in files:\n",
    "    data = idx2numpy.convert_from_file(file)\n",
    "    np.save(file.split(\".\")[0], data)"
   ]
  },
  {
   "cell_type": "code",
   "execution_count": 4,
   "metadata": {
    "ExecuteTime": {
     "end_time": "2020-09-21T18:46:35.615283Z",
     "start_time": "2020-09-21T18:46:35.573299Z"
    },
    "scrolled": true
   },
   "outputs": [
    {
     "name": "stdout",
     "output_type": "stream",
     "text": [
      "t10k-images.npy\n",
      "(10000, 28, 28)\n",
      "t10k-labels.npy\n",
      "(10000,)\n",
      "train-images.npy\n",
      "(60000, 28, 28)\n",
      "train-labels.npy\n",
      "(60000,)\n"
     ]
    }
   ],
   "source": [
    "# load all npy file and print shape\n",
    "files = glob(\"*npy\")\n",
    "\n",
    "for file in files:\n",
    "    data = np.load(file)\n",
    "    print(file)\n",
    "    print(data.shape)"
   ]
  },
  {
   "cell_type": "markdown",
   "metadata": {},
   "source": [
    "# Load Data"
   ]
  },
  {
   "cell_type": "code",
   "execution_count": 7,
   "metadata": {
    "ExecuteTime": {
     "end_time": "2020-09-21T18:46:53.578225Z",
     "start_time": "2020-09-21T18:46:53.526254Z"
    }
   },
   "outputs": [],
   "source": [
    "X_train = np.load(\"train-images.npy\")\n",
    "y_train = np.load(\"train-labels.npy\")\n",
    "\n",
    "X_test = np.load(\"t10k-images.npy\")\n",
    "y_test = np.load(\"t10k-labels.npy\")\n",
    "\n",
    "m_train = X_train.shape[0]\n",
    "m_test = X_test.shape[0]"
   ]
  },
  {
   "cell_type": "code",
   "execution_count": 8,
   "metadata": {
    "ExecuteTime": {
     "end_time": "2020-09-21T18:46:53.877140Z",
     "start_time": "2020-09-21T18:46:53.858132Z"
    }
   },
   "outputs": [
    {
     "name": "stdout",
     "output_type": "stream",
     "text": [
      "X_train shape: (60000, 28, 28)\n",
      "y_train shape: (60000,)\n",
      "X_test shape: (10000, 28, 28)\n",
      "y_test shape: (10000,)\n",
      "Number of training examples: m_train = 60000\n",
      "Number of testing examples: m_test = 10000\n"
     ]
    }
   ],
   "source": [
    "print(\"X_train shape: \" + str(X_train.shape))\n",
    "print(\"y_train shape: \" + str(y_train.shape))\n",
    "print(\"X_test shape: \" + str(X_test.shape))\n",
    "print(\"y_test shape: \" + str(y_test.shape))\n",
    "print (\"Number of training examples: m_train = \" + str(m_train))\n",
    "print (\"Number of testing examples: m_test = \" + str(m_test))"
   ]
  },
  {
   "cell_type": "code",
   "execution_count": 9,
   "metadata": {
    "ExecuteTime": {
     "end_time": "2020-09-21T18:46:57.380365Z",
     "start_time": "2020-09-21T18:46:55.337261Z"
    }
   },
   "outputs": [
    {
     "data": {
      "image/png": "[encoded data removed]",
      "text/plain": [
       "<Figure size 1224x720 with 12 Axes>"
      ]
     },
     "metadata": {
      "needs_background": "light"
     },
     "output_type": "display_data"
    }
   ],
   "source": [
    "# random check with nine training examples\n",
    "np.random.seed(0)\n",
    "indices = list(np.random.randint(m_train, size=12))\n",
    "for i in range(12):\n",
    "    plt.subplot(4, 4, i+1)\n",
    "    plt.imshow(X_train[indices[i]].reshape(28, 28),\n",
    "               cmap='gray', interpolation='none')\n",
    "    plt.title(y_train[indices[i]])\n",
    "    plt.tight_layout()"
   ]
  },
  {
   "cell_type": "code",
   "execution_count": 10,
   "metadata": {
    "ExecuteTime": {
     "end_time": "2020-09-21T18:47:05.224689Z",
     "start_time": "2020-09-21T18:47:05.022742Z"
    }
   },
   "outputs": [],
   "source": [
    "# reshape to one dimension array (784 from 28*28)\n",
    "X_train=X_train.reshape(m_train, -1)\n",
    "X_test=X_test.reshape(m_test, -1)\n",
    "\n",
    "# convert from 0 - 255 to 0-1 \n",
    "X_train=X_train/255\n",
    "X_test=X_test/255"
   ]
  },
  {
   "cell_type": "code",
   "execution_count": 11,
   "metadata": {
    "ExecuteTime": {
     "end_time": "2020-09-21T18:47:05.426816Z",
     "start_time": "2020-09-21T18:47:05.413854Z"
    }
   },
   "outputs": [
    {
     "name": "stdout",
     "output_type": "stream",
     "text": [
      "(10000, 784)\n",
      "(60000, 784)\n"
     ]
    }
   ],
   "source": [
    "print(X_test.shape)\n",
    "print(X_train.shape)"
   ]
  },
  {
   "cell_type": "markdown",
   "metadata": {},
   "source": [
    "# Functions "
   ]
  },
  {
   "cell_type": "code",
   "execution_count": 12,
   "metadata": {
    "ExecuteTime": {
     "end_time": "2020-09-21T18:47:06.840492Z",
     "start_time": "2020-09-21T18:47:06.819499Z"
    }
   },
   "outputs": [],
   "source": [
    "def get_one_hot(targets, nb_classes=10):\n",
    "    res = np.eye(nb_classes)[np.array(targets).reshape(-1)]\n",
    "    return res.reshape(list(targets.shape)+[nb_classes])\n",
    "\n",
    "# def softmax(y):\n",
    "#     s = np.exp(y)\n",
    "# #     total = np.sum(s, axis=1).reshape(-1,1)\n",
    "#     total = np.sum(s, axis=1)\n",
    "#     return (s / total).reshape(-1,1)\n",
    "\n",
    "\n",
    "def softmax(y):\n",
    "    u = np.ones((y.shape[0], 1))\n",
    "    S = np.exp(y)/(u.T.dot(np.exp(y)))\n",
    "    return S\n",
    "\n",
    "# def cross_entropy(y,S):\n",
    "#     return -get_one_hot(y).T.dot(np.log(S))\n",
    "\n",
    "\n",
    "def cross_entropy(y, S):\n",
    "    return -y.T.dot(np.log(S))\n",
    "\n",
    "\n",
    "def func(w):\n",
    "    y = w.dot(x)\n",
    "    S = softmax(y)\n",
    "    P = get_one_hot(label).reshape(10, 1)\n",
    "    loss = cross_entropy(P, S)\n",
    "    grad = -np.reshape(-u.T.dot(P)*S.dot(x.T)+P.dot(x.T), (10*784, 1))\n",
    "    return loss, grad\n",
    "\n",
    "\n",
    "def sigmoid(x):\n",
    "    return 1/(1 + np.exp(-x))\n",
    "\n",
    "\n",
    "def compute_loss(Y, Y_hat):\n",
    "    \"\"\"\n",
    "    compute loss function\n",
    "    \"\"\"\n",
    "    L_sum = np.sum(np.multiply(Y, np.log(Y_hat)))\n",
    "    m = Y.shape[1]\n",
    "    L = -(1./m) * L_sum\n",
    "\n",
    "    return L\n",
    "\n",
    "\n",
    "def softmax_grad(x):\n",
    "    # Reshape the 1-d softmax to 2-d so that np.dot will do the matrix multiplication\n",
    "    s = softmax(x).reshape(-1, 1)\n",
    "    return np.diagflat(s) - np.dot(s, s.T)"
   ]
  },
  {
   "cell_type": "code",
   "execution_count": 13,
   "metadata": {
    "ExecuteTime": {
     "end_time": "2020-09-21T18:47:07.822319Z",
     "start_time": "2020-09-21T18:47:07.804325Z"
    }
   },
   "outputs": [],
   "source": [
    "x = X_test[0].reshape(-1, 1)\n",
    "label = y_test[0]\n",
    "w1 = np.random.rand(10, 28*28)"
   ]
  },
  {
   "cell_type": "code",
   "execution_count": 14,
   "metadata": {
    "ExecuteTime": {
     "end_time": "2020-09-21T18:47:08.389623Z",
     "start_time": "2020-09-21T18:47:08.385625Z"
    }
   },
   "outputs": [],
   "source": [
    "y = w1.dot(x)"
   ]
  },
  {
   "cell_type": "code",
   "execution_count": 16,
   "metadata": {
    "ExecuteTime": {
     "end_time": "2020-09-21T18:47:17.516748Z",
     "start_time": "2020-09-21T18:47:17.506738Z"
    }
   },
   "outputs": [
    {
     "data": {
      "text/plain": [
       "array([[0.0237294 ],\n",
       "       [0.03234513],\n",
       "       [0.87962596],\n",
       "       [0.00193883],\n",
       "       [0.00316146],\n",
       "       [0.0198167 ],\n",
       "       [0.00473816],\n",
       "       [0.00857864],\n",
       "       [0.00933749],\n",
       "       [0.01672821]])"
      ]
     },
     "execution_count": 16,
     "metadata": {},
     "output_type": "execute_result"
    }
   ],
   "source": [
    "S= softmax(y)\n",
    "# S = sigmoid(y)\n",
    "S"
   ]
  },
  {
   "cell_type": "code",
   "execution_count": 17,
   "metadata": {
    "ExecuteTime": {
     "end_time": "2020-09-21T18:47:21.278122Z",
     "start_time": "2020-09-21T18:47:21.266125Z"
    }
   },
   "outputs": [
    {
     "data": {
      "text/plain": [
       "array([[4.75847975]])"
      ]
     },
     "execution_count": 17,
     "metadata": {},
     "output_type": "execute_result"
    }
   ],
   "source": [
    "P = get_one_hot(label).reshape(10, 1)\n",
    "loss = cross_entropy(P, S)\n",
    "loss"
   ]
  },
  {
   "cell_type": "code",
   "execution_count": 18,
   "metadata": {
    "ExecuteTime": {
     "end_time": "2020-09-21T18:47:24.310864Z",
     "start_time": "2020-09-21T18:47:24.290871Z"
    }
   },
   "outputs": [],
   "source": [
    "u = np.ones((10, 1))\n",
    "\n",
    "grad = -np.reshape(-u.T.dot(P)*S.dot(x.T)+P.dot(x.T), (10*784, 1))"
   ]
  },
  {
   "cell_type": "code",
   "execution_count": 19,
   "metadata": {
    "ExecuteTime": {
     "end_time": "2020-09-21T18:47:24.721765Z",
     "start_time": "2020-09-21T18:47:24.710771Z"
    }
   },
   "outputs": [
    {
     "data": {
      "text/plain": [
       "(7840, 1)"
      ]
     },
     "execution_count": 19,
     "metadata": {},
     "output_type": "execute_result"
    }
   ],
   "source": [
    "grad.shape"
   ]
  },
  {
   "cell_type": "code",
   "execution_count": 21,
   "metadata": {
    "ExecuteTime": {
     "end_time": "2020-09-21T18:47:29.064759Z",
     "start_time": "2020-09-21T18:47:29.053762Z"
    }
   },
   "outputs": [
    {
     "data": {
      "text/plain": [
       "array([[-0.],\n",
       "       [-0.],\n",
       "       [-0.],\n",
       "       ...,\n",
       "       [-0.],\n",
       "       [-0.],\n",
       "       [-0.]])"
      ]
     },
     "execution_count": 21,
     "metadata": {},
     "output_type": "execute_result"
    }
   ],
   "source": [
    "grad"
   ]
  },
  {
   "cell_type": "code",
   "execution_count": 22,
   "metadata": {
    "ExecuteTime": {
     "end_time": "2020-09-21T18:47:30.961258Z",
     "start_time": "2020-09-21T18:47:30.944264Z"
    }
   },
   "outputs": [
    {
     "data": {
      "text/plain": [
       "(784, 784)"
      ]
     },
     "execution_count": 22,
     "metadata": {},
     "output_type": "execute_result"
    }
   ],
   "source": [
    "softmax_grad(x).shape"
   ]
  },
  {
   "cell_type": "markdown",
   "metadata": {},
   "source": [
    "# Comparaison grad"
   ]
  },
  {
   "cell_type": "code",
   "execution_count": 23,
   "metadata": {
    "ExecuteTime": {
     "end_time": "2020-09-21T18:47:36.306566Z",
     "start_time": "2020-09-21T18:47:36.299570Z"
    }
   },
   "outputs": [],
   "source": [
    "d = np.random.rand(10, 28*28)\n",
    "d = d/np.linalg.norm(d)\n",
    "ep = 1e-8\n",
    "learning_rate = 1e-2"
   ]
  },
  {
   "cell_type": "code",
   "execution_count": 24,
   "metadata": {
    "ExecuteTime": {
     "end_time": "2020-09-21T18:47:37.651796Z",
     "start_time": "2020-09-21T18:47:37.639786Z"
    }
   },
   "outputs": [
    {
     "data": {
      "text/plain": [
       "array([[0.130093]])"
      ]
     },
     "execution_count": 24,
     "metadata": {},
     "output_type": "execute_result"
    }
   ],
   "source": [
    "(func(w1+ep*d)[0]-func(w1)[0])/ep"
   ]
  },
  {
   "cell_type": "code",
   "execution_count": 25,
   "metadata": {
    "ExecuteTime": {
     "end_time": "2020-09-21T18:47:40.261063Z",
     "start_time": "2020-09-21T18:47:40.250069Z"
    },
    "scrolled": true
   },
   "outputs": [
    {
     "data": {
      "text/plain": [
       "array([[3.09527785e-07]])"
      ]
     },
     "execution_count": 25,
     "metadata": {},
     "output_type": "execute_result"
    }
   ],
   "source": [
    "# difference between grad and\n",
    "(func(w1+ep*d)[0]-func(w1)[0])/ep - func(w1)[1].T.dot(d.reshape(7840))"
   ]
  },
  {
   "cell_type": "code",
   "execution_count": 26,
   "metadata": {
    "ExecuteTime": {
     "end_time": "2020-09-21T18:47:46.430470Z",
     "start_time": "2020-09-21T18:47:46.415476Z"
    }
   },
   "outputs": [
    {
     "data": {
      "text/plain": [
       "array([[0.43758721, 0.891773  , 0.96366276, ..., 0.07535907, 0.424663  ,\n",
       "        0.10761771],\n",
       "       [0.56821759, 0.24655694, 0.59643307, ..., 0.72239152, 0.31763187,\n",
       "        0.32895376],\n",
       "       [0.01969164, 0.04087486, 0.25782169, ..., 0.32427288, 0.92462281,\n",
       "        0.97478726],\n",
       "       ...,\n",
       "       [0.89605225, 0.87767408, 0.17908352, ..., 0.19298211, 0.97002278,\n",
       "        0.82518232],\n",
       "       [0.92972355, 0.52315373, 0.74774185, ..., 0.86042083, 0.86936893,\n",
       "        0.15739585],\n",
       "       [0.46733265, 0.89456366, 0.7299262 , ..., 0.58888929, 0.39610152,\n",
       "        0.42369213]])"
      ]
     },
     "execution_count": 26,
     "metadata": {},
     "output_type": "execute_result"
    }
   ],
   "source": [
    "# update weights\n",
    "(w1.reshape(7840, 1)-learning_rate*func(w1)[1]).reshape(10, 784)"
   ]
  },
  {
   "cell_type": "markdown",
   "metadata": {},
   "source": [
    "# Training loop 1 layer 1 image"
   ]
  },
  {
   "cell_type": "code",
   "execution_count": 30,
   "metadata": {
    "ExecuteTime": {
     "end_time": "2020-09-21T18:48:48.001151Z",
     "start_time": "2020-09-21T18:48:47.805203Z"
    }
   },
   "outputs": [
    {
     "data": {
      "application/vnd.jupyter.widget-view+json": {
       "model_id": "a779ef67cb854a73ba1c8cce2668fe34",
       "version_major": 2,
       "version_minor": 0
      },
      "text/plain": [
       "HBox(children=(FloatProgress(value=0.0, max=300.0), HTML(value='')))"
      ]
     },
     "metadata": {},
     "output_type": "display_data"
    },
    {
     "name": "stdout",
     "output_type": "stream",
     "text": [
      "Epoch 0 cost:  [6.5691]\n",
      "Epoch 50 cost:  [1.6491]\n",
      "Epoch 100 cost:  [0.3308]\n",
      "Epoch 150 cost:  [0.1492]\n",
      "Epoch 200 cost:  [0.0933]\n",
      "Epoch 250 cost:  [0.0673]\n",
      "\n",
      "True label  9\n",
      "Predicted label  9  at  0.9487\n"
     ]
    },
    {
     "data": {
      "image/png": "[encoded data removed]",
      "text/plain": [
       "<Figure size 1224x720 with 1 Axes>"
      ]
     },
     "metadata": {
      "needs_background": "light"
     },
     "output_type": "display_data"
    }
   ],
   "source": [
    "test = 12\n",
    "x = X_test[test].reshape(-1, 1)\n",
    "label = y_test[test]\n",
    "w1 = np.random.rand(10, 28*28)\n",
    "u = np.ones((10, 1))\n",
    "P = get_one_hot(label).reshape(10, 1)\n",
    "learning_rate = 1e-3\n",
    "epochs = 300\n",
    "\n",
    "loss_epoch = []\n",
    "for i in tqdm(range(epochs)):\n",
    "    y = w1.dot(x)\n",
    "    S = softmax(y)\n",
    "    loss = cross_entropy(P, S).reshape(-1)\n",
    "    loss_epoch.append(loss)\n",
    "    grad = -np.reshape(-u.T.dot(P)*S.dot(x.T)+P.dot(x.T), (10*784, 1))\n",
    "    w1 = (w1.reshape(7840, 1)-learning_rate*grad).reshape(10, 784)\n",
    "    if (i % 50 == 0):\n",
    "        print(\"Epoch\", i, \"cost: \", np.round(loss,4))\n",
    "\n",
    "plt.plot(range(epochs), loss_epoch)\n",
    "plt.ylabel(\" Crossentropy Loss\")\n",
    "plt.xlabel(\"Epochs\")\n",
    "\n",
    "print(\"True label \", label)\n",
    "print('Predicted label ', np.argmax(S), \" at \", round(np.max(S), 4))"
   ]
  },
  {
   "cell_type": "code",
   "execution_count": 39,
   "metadata": {
    "ExecuteTime": {
     "end_time": "2020-09-21T18:49:10.571861Z",
     "start_time": "2020-09-21T18:49:10.561849Z"
    }
   },
   "outputs": [
    {
     "name": "stdout",
     "output_type": "stream",
     "text": [
      "True label  2\n",
      "Predicted label  9  at  0.4973\n"
     ]
    }
   ],
   "source": [
    "test = np.random.randint(0, y_test.shape[0])\n",
    "y = w1.dot(X_test[test].reshape(-1, 1))\n",
    "S = softmax(y)\n",
    "print(\"True label \", y_test[test])\n",
    "print('Predicted label ', np.argmax(S), \" at \", round(np.max(S), 4))"
   ]
  },
  {
   "cell_type": "code",
   "execution_count": 40,
   "metadata": {
    "ExecuteTime": {
     "end_time": "2020-09-21T18:49:11.632981Z",
     "start_time": "2020-09-21T18:49:11.606003Z"
    }
   },
   "outputs": [
    {
     "name": "stdout",
     "output_type": "stream",
     "text": [
      "training accuracy: 0.00\n"
     ]
    },
    {
     "name": "stderr",
     "output_type": "stream",
     "text": [
      "<ipython-input-40-3aa8d1a4421b>:5: DeprecationWarning: elementwise comparison failed; this will raise an error in the future.\n",
      "  print('training accuracy: %.2f' % (np.mean(S == get_one_hot(y_test))))\n"
     ]
    }
   ],
   "source": [
    "# accuracy on all data\n",
    "y = w1.dot(X_test.T)\n",
    "S = softmax(y)\n",
    "\n",
    "print('training accuracy: %.2f' % (np.mean(S == get_one_hot(y_test))))"
   ]
  },
  {
   "cell_type": "code",
   "execution_count": 41,
   "metadata": {
    "ExecuteTime": {
     "end_time": "2020-09-21T18:49:33.642397Z",
     "start_time": "2020-09-21T18:49:33.638410Z"
    }
   },
   "outputs": [
    {
     "name": "stdout",
     "output_type": "stream",
     "text": [
      "x------------------- (784, 1)\n",
      "w1------------------ (10, 784)\n",
      "y------------------- (10, 10000)\n",
      "S------------------- (10, 10000)\n",
      "loss---------------- (1,)\n",
      "grad---------------- (7840, 1)\n"
     ]
    }
   ],
   "source": [
    "params = {\"x\": x, \"w1\": w1, \"y\": y, \"S\": S, \"loss\": loss, \"grad\": grad}\n",
    "for p in params.keys():\n",
    "    print(f'{ p:-<20} {params.get(p).shape}')"
   ]
  },
  {
   "cell_type": "code",
   "execution_count": 42,
   "metadata": {
    "ExecuteTime": {
     "end_time": "2020-09-21T18:49:35.855553Z",
     "start_time": "2020-09-21T18:49:35.847569Z"
    }
   },
   "outputs": [
    {
     "data": {
      "text/plain": [
       "(784, 1)"
      ]
     },
     "execution_count": 42,
     "metadata": {},
     "output_type": "execute_result"
    }
   ],
   "source": [
    "params.get('x').shape"
   ]
  },
  {
   "cell_type": "markdown",
   "metadata": {},
   "source": [
    "# Training loop 1 layer all images"
   ]
  },
  {
   "cell_type": "code",
   "execution_count": 43,
   "metadata": {
    "ExecuteTime": {
     "end_time": "2020-09-21T18:49:38.651449Z",
     "start_time": "2020-09-21T18:49:37.860708Z"
    }
   },
   "outputs": [
    {
     "ename": "ValueError",
     "evalue": "shapes (1,784) and (10000,10) not aligned: 784 (dim 1) != 10000 (dim 0)",
     "output_type": "error",
     "traceback": [
      "\u001b[1;31m---------------------------------------------------------------------------\u001b[0m",
      "\u001b[1;31mValueError\u001b[0m                                Traceback (most recent call last)",
      "\u001b[1;32m<ipython-input-43-4b4f6d1d881a>\u001b[0m in \u001b[0;36m<module>\u001b[1;34m\u001b[0m\n\u001b[0;32m     13\u001b[0m     \u001b[0mloss\u001b[0m \u001b[1;33m=\u001b[0m \u001b[0mcross_entropy\u001b[0m\u001b[1;33m(\u001b[0m\u001b[0mP\u001b[0m\u001b[1;33m.\u001b[0m\u001b[0mT\u001b[0m\u001b[1;33m,\u001b[0m \u001b[0mS\u001b[0m\u001b[1;33m)\u001b[0m\u001b[1;33m.\u001b[0m\u001b[0mreshape\u001b[0m\u001b[1;33m(\u001b[0m\u001b[1;33m-\u001b[0m\u001b[1;36m1\u001b[0m\u001b[1;33m)\u001b[0m\u001b[1;33m.\u001b[0m\u001b[0mmean\u001b[0m\u001b[1;33m(\u001b[0m\u001b[1;33m)\u001b[0m\u001b[1;33m\u001b[0m\u001b[1;33m\u001b[0m\u001b[0m\n\u001b[0;32m     14\u001b[0m     \u001b[0mloss_epoch\u001b[0m\u001b[1;33m.\u001b[0m\u001b[0mappend\u001b[0m\u001b[1;33m(\u001b[0m\u001b[0mloss\u001b[0m\u001b[1;33m)\u001b[0m\u001b[1;33m\u001b[0m\u001b[1;33m\u001b[0m\u001b[0m\n\u001b[1;32m---> 15\u001b[1;33m     \u001b[0mgrad\u001b[0m \u001b[1;33m=\u001b[0m \u001b[1;33m-\u001b[0m\u001b[0mnp\u001b[0m\u001b[1;33m.\u001b[0m\u001b[0mreshape\u001b[0m\u001b[1;33m(\u001b[0m\u001b[1;33m-\u001b[0m\u001b[0mu\u001b[0m\u001b[1;33m.\u001b[0m\u001b[0mT\u001b[0m\u001b[1;33m.\u001b[0m\u001b[0mdot\u001b[0m\u001b[1;33m(\u001b[0m\u001b[0mP\u001b[0m\u001b[1;33m)\u001b[0m\u001b[1;33m*\u001b[0m\u001b[0mS\u001b[0m\u001b[1;33m.\u001b[0m\u001b[0mdot\u001b[0m\u001b[1;33m(\u001b[0m\u001b[0mx\u001b[0m\u001b[1;33m.\u001b[0m\u001b[0mT\u001b[0m\u001b[1;33m)\u001b[0m\u001b[1;33m+\u001b[0m\u001b[0mP\u001b[0m\u001b[1;33m.\u001b[0m\u001b[0mdot\u001b[0m\u001b[1;33m(\u001b[0m\u001b[0mx\u001b[0m\u001b[1;33m.\u001b[0m\u001b[0mT\u001b[0m\u001b[1;33m)\u001b[0m\u001b[1;33m,\u001b[0m \u001b[1;33m(\u001b[0m\u001b[1;36m10\u001b[0m\u001b[1;33m*\u001b[0m\u001b[1;36m784\u001b[0m\u001b[1;33m,\u001b[0m \u001b[1;36m1\u001b[0m\u001b[1;33m)\u001b[0m\u001b[1;33m)\u001b[0m\u001b[1;33m\u001b[0m\u001b[1;33m\u001b[0m\u001b[0m\n\u001b[0m\u001b[0;32m     16\u001b[0m     \u001b[0mw1\u001b[0m \u001b[1;33m=\u001b[0m \u001b[1;33m(\u001b[0m\u001b[0mw1\u001b[0m\u001b[1;33m.\u001b[0m\u001b[0mreshape\u001b[0m\u001b[1;33m(\u001b[0m\u001b[1;36m7840\u001b[0m\u001b[1;33m,\u001b[0m \u001b[1;36m1\u001b[0m\u001b[1;33m)\u001b[0m\u001b[1;33m-\u001b[0m\u001b[0mlearning_rate\u001b[0m\u001b[1;33m*\u001b[0m\u001b[0mgrad\u001b[0m\u001b[1;33m)\u001b[0m\u001b[1;33m.\u001b[0m\u001b[0mreshape\u001b[0m\u001b[1;33m(\u001b[0m\u001b[1;36m10\u001b[0m\u001b[1;33m,\u001b[0m \u001b[1;36m784\u001b[0m\u001b[1;33m)\u001b[0m\u001b[1;33m\u001b[0m\u001b[1;33m\u001b[0m\u001b[0m\n\u001b[0;32m     17\u001b[0m     \u001b[1;32mif\u001b[0m \u001b[1;33m(\u001b[0m\u001b[0mi\u001b[0m \u001b[1;33m%\u001b[0m \u001b[1;36m50\u001b[0m \u001b[1;33m==\u001b[0m \u001b[1;36m0\u001b[0m\u001b[1;33m)\u001b[0m\u001b[1;33m:\u001b[0m\u001b[1;33m\u001b[0m\u001b[1;33m\u001b[0m\u001b[0m\n",
      "\u001b[1;31mValueError\u001b[0m: shapes (1,784) and (10000,10) not aligned: 784 (dim 1) != 10000 (dim 0)"
     ]
    }
   ],
   "source": [
    "x = X_test.T\n",
    "w1 = np.random.rand(10, 28*28)\n",
    "P = get_one_hot(y_test)\n",
    "u = np.ones((x.shape[0], 1))\n",
    "\n",
    "learning_rate = 1e-3\n",
    "epochs = 2\n",
    "\n",
    "loss_epoch = []\n",
    "for i in range(epochs):\n",
    "    y = w1.dot(x)\n",
    "    S = softmax(y)\n",
    "    loss = cross_entropy(P.T, S).reshape(-1).mean()\n",
    "    loss_epoch.append(loss)\n",
    "    grad = -np.reshape(-u.T.dot(P)*S.dot(x.T)+P.dot(x.T), (10*784, 1))\n",
    "    w1 = (w1.reshape(7840, 1)-learning_rate*grad).reshape(10, 784)\n",
    "    if (i % 50 == 0):\n",
    "        print(\"Epoch\", i, \"cost: \", loss)\n",
    "\n",
    "plt.plot(range(epochs), loss_epoch)\n",
    "plt.ylabel(\" Crossentropy Loss\")\n",
    "plt.xlabel(\"Epochs\")"
   ]
  },
  {
   "cell_type": "code",
   "execution_count": 44,
   "metadata": {
    "ExecuteTime": {
     "end_time": "2020-09-21T18:49:39.947839Z",
     "start_time": "2020-09-21T18:49:39.938843Z"
    }
   },
   "outputs": [
    {
     "name": "stdout",
     "output_type": "stream",
     "text": [
      "x------------------- (784, 10000)\n",
      "w1------------------ (10, 784)\n",
      "y------------------- (10, 10000)\n",
      "S------------------- (10, 10000)\n",
      "loss---------------- ()\n",
      "grad---------------- (7840, 1)\n"
     ]
    }
   ],
   "source": [
    "params = {\"x\": x, \"w1\": w1, \"y\": y, \"S\": S, \"loss\": loss, \"grad\": grad}\n",
    "for p in params.keys():\n",
    "    print(f'{ p:-<20} {params.get(p).shape}')"
   ]
  },
  {
   "cell_type": "code",
   "execution_count": null,
   "metadata": {},
   "outputs": [],
   "source": []
  }
 ],
 "metadata": {
  "kernelspec": {
   "display_name": "Python 3",
   "language": "python",
   "name": "python3"
  },
  "language_info": {
   "codemirror_mode": {
    "name": "ipython",
    "version": 3
   },
   "file_extension": ".py",
   "mimetype": "text/x-python",
   "name": "python",
   "nbconvert_exporter": "python",
   "pygments_lexer": "ipython3",
   "version": "3.8.3"
  },
  "toc": {
   "base_numbering": 1,
   "nav_menu": {},
   "number_sections": true,
   "sideBar": true,
   "skip_h1_title": false,
   "title_cell": "Table of Contents",
   "title_sidebar": "Contents",
   "toc_cell": true,
   "toc_position": {},
   "toc_section_display": true,
   "toc_window_display": false
  },
  "varInspector": {
   "cols": {
    "lenName": 16,
    "lenType": 16,
    "lenVar": 40
   },
   "kernels_config": {
    "python": {
     "delete_cmd_postfix": "",
     "delete_cmd_prefix": "del ",
     "library": "var_list.py",
     "varRefreshCmd": "print(var_dic_list())"
    },
    "r": {
     "delete_cmd_postfix": ") ",
     "delete_cmd_prefix": "rm(",
     "library": "var_list.r",
     "varRefreshCmd": "cat(var_dic_list()) "
    }
   },
   "oldHeight": 508.4,
   "position": {
    "height": "530.391px",
    "left": "1555px",
    "right": "20px",
    "top": "129px",
    "width": "358px"
   },
   "types_to_exclude": [
    "module",
    "function",
    "builtin_function_or_method",
    "instance",
    "_Feature"
   ],
   "varInspector_section_display": "block",
   "window_display": true
  }
 },
 "nbformat": 4,
 "nbformat_minor": 2
}
